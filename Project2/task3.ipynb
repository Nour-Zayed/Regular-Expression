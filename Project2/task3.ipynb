{
 "cells": [
  {
   "cell_type": "code",
   "execution_count": 1,
   "metadata": {},
   "outputs": [
    {
     "name": "stdout",
     "output_type": "stream",
     "text": [
      "Emails: ['nour@gmail.com', 'amir.khaled@example.com', 'salma.hossam@example.com', 'omar.ali@example.com', 'layla.said@example.com']\n",
      "Names: ['Nour Mostafa Zayed', 'Amir Khaled', 'Salma Hossam', 'Omar Ali zayed', 'Layla Ahmed kamel Said']\n",
      "Phone Numbers: ['01009754408', '01122567890', '01019874563', '01011223344', '01223334455']\n"
     ]
    }
   ],
   "source": [
    "import re\n",
    "\n",
    "email_pattern = re.compile(r'[a-zA-Z0-9_.+-]+@[a-zA-Z0-9-]+\\.[a-zA-Z]{2,}')\n",
    "phone_pattern = re.compile(r\"01\\d{9}\")  \n",
    "\n",
    "emails_list = []\n",
    "names_list = []\n",
    "phone_list = []\n",
    "\n",
    "with open('data1.txt', 'r') as file:\n",
    "    for line in file:\n",
    "        # Extract emails\n",
    "        emails = email_pattern.findall(line)\n",
    "        emails_list.extend(emails)\n",
    "\n",
    "        phones = phone_pattern.findall(line)\n",
    "        phone_list.extend(phones)\n",
    "        \n",
    "        words = re.findall(r\"\\b\\w+\\b\", line)\n",
    "        filtered_words = [word for word in words if not phone_pattern.match(word) and not any(word in email for email in emails)]\n",
    "        \n",
    "        if filtered_words:\n",
    "            full_name = \" \".join(filtered_words)\n",
    "            names_list.append(full_name)\n",
    "\n",
    "print(\"Emails:\", emails_list)\n",
    "print(\"Names:\", names_list)\n",
    "print(\"Phone Numbers:\", phone_list)\n"
   ]
  }
 ],
 "metadata": {
  "kernelspec": {
   "display_name": "Python 3",
   "language": "python",
   "name": "python3"
  },
  "language_info": {
   "codemirror_mode": {
    "name": "ipython",
    "version": 3
   },
   "file_extension": ".py",
   "mimetype": "text/x-python",
   "name": "python",
   "nbconvert_exporter": "python",
   "pygments_lexer": "ipython3",
   "version": "3.11.5"
  }
 },
 "nbformat": 4,
 "nbformat_minor": 2
}
